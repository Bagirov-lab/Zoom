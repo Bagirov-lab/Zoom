{
 "cells": [
  {
   "cell_type": "markdown",
   "metadata": {
    "toc": true
   },
   "source": [
    "<h1>Table of Contents<span class=\"tocSkip\"></span></h1>\n",
    "<div class=\"toc\"><ul class=\"toc-item\"></ul></div>"
   ]
  },
  {
   "cell_type": "code",
   "execution_count": 1,
   "metadata": {
    "ExecuteTime": {
     "end_time": "2021-05-02T18:32:45.167510Z",
     "start_time": "2021-05-02T18:32:43.699443Z"
    }
   },
   "outputs": [],
   "source": [
    "import pandas as pd\n",
    "import sqlalchemy as sql"
   ]
  },
  {
   "cell_type": "code",
   "execution_count": 35,
   "metadata": {
    "ExecuteTime": {
     "end_time": "2021-05-02T19:30:03.712981Z",
     "start_time": "2021-05-02T19:30:03.685901Z"
    }
   },
   "outputs": [],
   "source": [
    "# Load the data\n",
    "\n",
    "DF_1 = pd.read_csv('Data/S&P 500.csv', sep=';', parse_dates=[0])\n",
    "\n",
    "DF_2 = pd.read_csv('Data/ZM.csv', sep=';', parse_dates=[0])"
   ]
  },
  {
   "cell_type": "code",
   "execution_count": 15,
   "metadata": {
    "ExecuteTime": {
     "end_time": "2021-05-02T18:42:16.671951Z",
     "start_time": "2021-05-02T18:42:15.839811Z"
    }
   },
   "outputs": [],
   "source": [
    "# Connect to server\n",
    "\n",
    "# String\n",
    "\n",
    "Server = '194.87.248.66'\n",
    "DB = 'Research'\n",
    "Driver = 'SQL Server'\n",
    "Name = 'Dony'\n",
    "Password = 'PenisGaming1996'\n",
    "Connection_str = f'mssql://{Name}:{Password}@{Server}/{DB}?driver={Driver}'\n",
    "\n",
    "# Connect to SQL server\n",
    "    \n",
    "engine = sql.create_engine(Connection_str, echo=False)\n",
    "\n",
    "Connection = engine.connect()"
   ]
  },
  {
   "cell_type": "code",
   "execution_count": 26,
   "metadata": {
    "ExecuteTime": {
     "end_time": "2021-05-02T19:24:32.714005Z",
     "start_time": "2021-05-02T19:23:33.591345Z"
    }
   },
   "outputs": [],
   "source": [
    "# Add data\n",
    "\n",
    "DF_2.to_sql(name='Stock_Zoom', con=Connection, if_exists='append', index=False)"
   ]
  },
  {
   "cell_type": "code",
   "execution_count": 37,
   "metadata": {
    "ExecuteTime": {
     "end_time": "2021-05-02T19:30:14.441895Z",
     "start_time": "2021-05-02T19:30:14.420585Z"
    }
   },
   "outputs": [
    {
     "data": {
      "text/html": [
       "<div>\n",
       "<style scoped>\n",
       "    .dataframe tbody tr th:only-of-type {\n",
       "        vertical-align: middle;\n",
       "    }\n",
       "\n",
       "    .dataframe tbody tr th {\n",
       "        vertical-align: top;\n",
       "    }\n",
       "\n",
       "    .dataframe thead th {\n",
       "        text-align: right;\n",
       "    }\n",
       "</style>\n",
       "<table border=\"1\" class=\"dataframe\">\n",
       "  <thead>\n",
       "    <tr style=\"text-align: right;\">\n",
       "      <th></th>\n",
       "      <th>Date</th>\n",
       "      <th>Close/Last</th>\n",
       "      <th>Volume</th>\n",
       "      <th>Open</th>\n",
       "      <th>High</th>\n",
       "      <th>Low</th>\n",
       "    </tr>\n",
       "  </thead>\n",
       "  <tbody>\n",
       "    <tr>\n",
       "      <th>0</th>\n",
       "      <td>2021-04-30</td>\n",
       "      <td>4181.17</td>\n",
       "      <td>--</td>\n",
       "      <td>4198.10</td>\n",
       "      <td>4198.10</td>\n",
       "      <td>4174.85</td>\n",
       "    </tr>\n",
       "    <tr>\n",
       "      <th>1</th>\n",
       "      <td>2021-04-29</td>\n",
       "      <td>4211.47</td>\n",
       "      <td>--</td>\n",
       "      <td>4206.14</td>\n",
       "      <td>4218.78</td>\n",
       "      <td>4176.81</td>\n",
       "    </tr>\n",
       "    <tr>\n",
       "      <th>2</th>\n",
       "      <td>2021-04-28</td>\n",
       "      <td>4183.18</td>\n",
       "      <td>--</td>\n",
       "      <td>4185.14</td>\n",
       "      <td>4201.53</td>\n",
       "      <td>4181.78</td>\n",
       "    </tr>\n",
       "    <tr>\n",
       "      <th>3</th>\n",
       "      <td>2021-04-27</td>\n",
       "      <td>4186.72</td>\n",
       "      <td>--</td>\n",
       "      <td>4188.25</td>\n",
       "      <td>4193.35</td>\n",
       "      <td>4176.22</td>\n",
       "    </tr>\n",
       "    <tr>\n",
       "      <th>4</th>\n",
       "      <td>2021-04-26</td>\n",
       "      <td>4187.62</td>\n",
       "      <td>--</td>\n",
       "      <td>4185.03</td>\n",
       "      <td>4194.19</td>\n",
       "      <td>4182.36</td>\n",
       "    </tr>\n",
       "    <tr>\n",
       "      <th>...</th>\n",
       "      <td>...</td>\n",
       "      <td>...</td>\n",
       "      <td>...</td>\n",
       "      <td>...</td>\n",
       "      <td>...</td>\n",
       "      <td>...</td>\n",
       "    </tr>\n",
       "    <tr>\n",
       "      <th>1254</th>\n",
       "      <td>NaT</td>\n",
       "      <td>NaN</td>\n",
       "      <td>NaN</td>\n",
       "      <td>NaN</td>\n",
       "      <td>NaN</td>\n",
       "      <td>NaN</td>\n",
       "    </tr>\n",
       "    <tr>\n",
       "      <th>1255</th>\n",
       "      <td>NaT</td>\n",
       "      <td>NaN</td>\n",
       "      <td>NaN</td>\n",
       "      <td>NaN</td>\n",
       "      <td>NaN</td>\n",
       "      <td>NaN</td>\n",
       "    </tr>\n",
       "    <tr>\n",
       "      <th>1256</th>\n",
       "      <td>NaT</td>\n",
       "      <td>NaN</td>\n",
       "      <td>NaN</td>\n",
       "      <td>NaN</td>\n",
       "      <td>NaN</td>\n",
       "      <td>NaN</td>\n",
       "    </tr>\n",
       "    <tr>\n",
       "      <th>1257</th>\n",
       "      <td>NaT</td>\n",
       "      <td>NaN</td>\n",
       "      <td>NaN</td>\n",
       "      <td>NaN</td>\n",
       "      <td>NaN</td>\n",
       "      <td>NaN</td>\n",
       "    </tr>\n",
       "    <tr>\n",
       "      <th>1258</th>\n",
       "      <td>NaT</td>\n",
       "      <td>NaN</td>\n",
       "      <td>NaN</td>\n",
       "      <td>NaN</td>\n",
       "      <td>NaN</td>\n",
       "      <td>NaN</td>\n",
       "    </tr>\n",
       "  </tbody>\n",
       "</table>\n",
       "<p>1259 rows × 6 columns</p>\n",
       "</div>"
      ],
      "text/plain": [
       "           Date  Close/Last Volume     Open     High      Low\n",
       "0    2021-04-30     4181.17     --  4198.10  4198.10  4174.85\n",
       "1    2021-04-29     4211.47     --  4206.14  4218.78  4176.81\n",
       "2    2021-04-28     4183.18     --  4185.14  4201.53  4181.78\n",
       "3    2021-04-27     4186.72     --  4188.25  4193.35  4176.22\n",
       "4    2021-04-26     4187.62     --  4185.03  4194.19  4182.36\n",
       "...         ...         ...    ...      ...      ...      ...\n",
       "1254        NaT         NaN    NaN      NaN      NaN      NaN\n",
       "1255        NaT         NaN    NaN      NaN      NaN      NaN\n",
       "1256        NaT         NaN    NaN      NaN      NaN      NaN\n",
       "1257        NaT         NaN    NaN      NaN      NaN      NaN\n",
       "1258        NaT         NaN    NaN      NaN      NaN      NaN\n",
       "\n",
       "[1259 rows x 6 columns]"
      ]
     },
     "execution_count": 37,
     "metadata": {},
     "output_type": "execute_result"
    }
   ],
   "source": [
    "DF_1"
   ]
  },
  {
   "cell_type": "code",
   "execution_count": 43,
   "metadata": {
    "ExecuteTime": {
     "end_time": "2021-05-02T19:32:02.127442Z",
     "start_time": "2021-05-02T19:32:02.109462Z"
    }
   },
   "outputs": [],
   "source": [
    "# We have empty rows | need to delete them abd empty column - Volume\n",
    "\n",
    "DF_1.dropna(inplace=True)\n",
    "\n",
    "DF_1.drop(columns='Volume',inplace=True)"
   ]
  },
  {
   "cell_type": "code",
   "execution_count": 45,
   "metadata": {
    "ExecuteTime": {
     "end_time": "2021-05-02T19:33:51.883021Z",
     "start_time": "2021-05-02T19:33:00.050697Z"
    }
   },
   "outputs": [],
   "source": [
    "DF_1.to_sql(name='SP500', con=Connection, if_exists='append', index=False)"
   ]
  },
  {
   "cell_type": "code",
   "execution_count": 48,
   "metadata": {
    "ExecuteTime": {
     "end_time": "2021-05-02T19:35:51.718207Z",
     "start_time": "2021-05-02T19:35:51.672020Z"
    }
   },
   "outputs": [],
   "source": [
    "Connection.close()"
   ]
  },
  {
   "cell_type": "code",
   "execution_count": null,
   "metadata": {},
   "outputs": [],
   "source": []
  }
 ],
 "metadata": {
  "hide_input": false,
  "kernelspec": {
   "display_name": "Python 3",
   "language": "python",
   "name": "python3"
  },
  "language_info": {
   "codemirror_mode": {
    "name": "ipython",
    "version": 3
   },
   "file_extension": ".py",
   "mimetype": "text/x-python",
   "name": "python",
   "nbconvert_exporter": "python",
   "pygments_lexer": "ipython3",
   "version": "3.8.5"
  },
  "toc": {
   "base_numbering": 1,
   "nav_menu": {},
   "number_sections": true,
   "sideBar": true,
   "skip_h1_title": true,
   "title_cell": "Table of Contents",
   "title_sidebar": "Contents",
   "toc_cell": true,
   "toc_position": {},
   "toc_section_display": true,
   "toc_window_display": true
  }
 },
 "nbformat": 4,
 "nbformat_minor": 4
}
